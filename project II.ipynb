{
 "cells": [
  {
   "attachments": {},
   "cell_type": "markdown",
   "id": "8de58533-1355-430f-b1be-c125e93774e7",
   "metadata": {},
   "source": [
    "<div class=\"alert alert-block alert-custom\" style=\"margin-top: 20px; background-color: #fffaf0; color: #fffaf0; border-color: #5a6268;\">\r\n",
    "  >v>\r\n",
    "\n",
    "<h1 align=\"center\"><font size=\"6\" face=\"rockwell\"><span style=\"color:black\"> Prasun's github</span>\n",
    "</font></h1>\n",
    "\n",
    "<p style=\"text-align:center\">\n",
    "    <a href=\"https://github.com/Prasun157\" target=\"_blank\">\n",
    "    <img src=\"https://mattloftus.github.io/images/github-icon.svg\" width=\"150\" alt=\"Logo\">\n",
    "    </a>\n",
    "</p</div>> ll\n",
    "\n",
    "    "
   ]
  },
  {
   "attachments": {},
   "cell_type": "markdown",
   "id": "dce9be1d-ff80-4400-a75e-b7b8ff9d0f3e",
   "metadata": {},
   "source": [
    "\n",
    "# Project second - Diabetes Health Indicators Dataset\n",
    "\n",
    "    "
   ]
  },
  {
   "cell_type": "markdown",
   "id": "6a24d508-29c9-4369-99d9-cc156561e79c",
   "metadata": {},
   "source": [
    "<p style=\"text-align:center\">\n",
    "    \n",
    "<img src=\"https://storage.googleapis.com/kaggle-datasets-images/4066291/7062872/97d0546a25c757f1855ae7b97dc1fbeb/dataset-cover.jpg?t=2023-11-27-07-18-01\" width=\"900\" alt=\"Logo\">\n",
    "    </a>\n",
    "</p>"
   ]
  },
  {
   "cell_type": "markdown",
   "id": "88dc68fe-e643-458c-a795-b9e82397b681",
   "metadata": {},
   "source": [
    "## Table of Contents\n",
    "\n",
    "<div class=\"alert alert-block alert-info\" style=\"margin-top: 20px\">\n",
    "    \n",
    "1. [Problem](#0)<br>\n",
    "2. [Summary of the Dataset](#2)<br>\n",
    "3. [Libraries required](#4)<br>\n",
    "4. [Explore the Dataset](#6)<br>\n",
    "5. [Change log](#20)<br>\n",
    "\n",
    "\n",
    "</div>\n",
    "\n"
   ]
  },
  {
   "cell_type": "markdown",
   "id": "cd176cef-f7f6-4806-a6e6-0d23e6a3a0a8",
   "metadata": {},
   "source": [
    "### Problem <a id=\"0\"></a>\n",
    "This project aims to develop a machine learning model with the capability to make accurate predictions regarding the presence "
   ]
  },
  {
   "cell_type": "markdown",
   "id": "efc0e246-b2da-43a6-847e-1b5e00dc1032",
   "metadata": {},
   "source": [
    "### Summary of the Dataset:<a id=\"2\"></a>\n",
    "\n"
   ]
  },
  {
   "cell_type": "markdown",
   "id": "1532b0a6-d243-4a77-b4dc-40d92c4f7f04",
   "metadata": {},
   "source": [
    "### Libraries required:<a id=\"4\"></a>"
   ]
  },
  {
   "cell_type": "raw",
   "id": "6808d42f-237b-4753-9055-f33675ae4fa8",
   "metadata": {},
   "source": [
    "import pandas as pd\n",
    "import numpy as np\n",
    "import matplotlib.pyplot as plt\n",
    "import seaborn as sns\n",
    "import random\n",
    "from scipy import stats\n",
    "from sklearn.model_selection import train_test_split\n",
    "from sklearn.linear_model import LinearRegression\n",
    "from sklearn.metrics import mean_squared_error, mean_absolute_error\n",
    "from sklearn.ensemble import RandomForestRegressor"
   ]
  },
  {
   "cell_type": "markdown",
   "id": "b4ab72ab-c96b-42bd-a448-e08354e541c9",
   "metadata": {},
   "source": [
    "### Explore the Dataset:<a id=\"6\"></a>"
   ]
  },
  {
   "cell_type": "code",
   "execution_count": null,
   "id": "2f3582a7-8dde-4a3c-8e37-dbf354cf3320",
   "metadata": {},
   "outputs": [],
   "source": []
  },
  {
   "cell_type": "code",
   "execution_count": null,
   "id": "8d186360-0fd2-466c-b779-5b25f70cf4f5",
   "metadata": {},
   "outputs": [],
   "source": []
  },
  {
   "cell_type": "markdown",
   "id": "73b2fb31-622c-4057-9fd6-ccd08507d683",
   "metadata": {},
   "source": [
    "| Model                       | Precision | Recall | F1-Score | Training Accuracy | Test Accuracy |\r\n",
    "|-----------------------------|-----------|--------|----------|-------------------|---------------|\r\n",
    "| Logistic Regression         | 0         | 0      | 0        | 0                 | 0             |\r\n",
    "| Support Vector Machine (rbf)| 0         | 0      | 0        | 0                 | 0             |\r\n",
    "| Decision Tree               | 0         | 0      | 0        | 0                 | 0             |\r\n",
    "| Random Forest               | 0         | 0      | 0        | 0                 | 0             |\r\n",
    "| K-Nearest Neighbor          | 0         | 0      | 0        | 0                 | 0             |\r\n",
    "\n"
   ]
  },
  {
   "cell_type": "markdown",
   "id": "86e83661-773d-4035-97aa-0e6f16f612c2",
   "metadata": {},
   "source": [
    "\n",
    "## Made by-\n",
    "\n",
    "<h3><a href=\"https://www.linkedin.com/in/prasun-maltare-94273a229/\" target=\"_blank\">Prasun Maltare</a></h3>\n",
    "\n",
    "\n",
    "\n",
    "\n",
    "## Change Log <a id=\"20\"></a>\n",
    "\n",
    "\n",
    "|  Date             |   Change Description                   |\n",
    "|--------------------|----------------------------------------|\n",
    "| 20-03-2024        |Updated to work with data csv file  | \n",
    "\n",
    "\n",
    "\n",
    "\n",
    "\n",
    "## <h3 align=\"center\"> Thank you! <h3/>"
   ]
  },
  {
   "cell_type": "code",
   "execution_count": null,
   "id": "61967a63-d24a-4be3-94bd-a5ce55bb84b0",
   "metadata": {},
   "outputs": [],
   "source": []
  }
 ],
 "metadata": {
  "kernelspec": {
   "display_name": "Python 3 (ipykernel)",
   "language": "python",
   "name": "python3"
  },
  "language_info": {
   "codemirror_mode": {
    "name": "ipython",
    "version": 3
   },
   "file_extension": ".py",
   "mimetype": "text/x-python",
   "name": "python",
   "nbconvert_exporter": "python",
   "pygments_lexer": "ipython3",
   "version": "3.12.1"
  }
 },
 "nbformat": 4,
 "nbformat_minor": 5
}
